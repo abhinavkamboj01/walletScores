{
 "cells": [
  {
   "cell_type": "code",
   "execution_count": 10,
   "metadata": {},
   "outputs": [],
   "source": [
    "\n",
    "import pandas as pd\n",
    "import numpy as np\n",
    "from sklearn.preprocessing import MinMaxScaler"
   ]
  },
  {
   "cell_type": "code",
   "execution_count": 11,
   "metadata": {},
   "outputs": [],
   "source": [
    "\n",
    "wallet_df = pd.read_csv(\"Wallet id - Sheet1.csv\")"
   ]
  },
  {
   "cell_type": "code",
   "execution_count": 12,
   "metadata": {},
   "outputs": [
    {
     "data": {
      "text/html": [
       "<div>\n",
       "<style scoped>\n",
       "    .dataframe tbody tr th:only-of-type {\n",
       "        vertical-align: middle;\n",
       "    }\n",
       "\n",
       "    .dataframe tbody tr th {\n",
       "        vertical-align: top;\n",
       "    }\n",
       "\n",
       "    .dataframe thead th {\n",
       "        text-align: right;\n",
       "    }\n",
       "</style>\n",
       "<table border=\"1\" class=\"dataframe\">\n",
       "  <thead>\n",
       "    <tr style=\"text-align: right;\">\n",
       "      <th></th>\n",
       "      <th>wallet_id</th>\n",
       "    </tr>\n",
       "  </thead>\n",
       "  <tbody>\n",
       "    <tr>\n",
       "      <th>0</th>\n",
       "      <td>0x0039f22efb07a647557c7c5d17854cfd6d489ef3</td>\n",
       "    </tr>\n",
       "    <tr>\n",
       "      <th>1</th>\n",
       "      <td>0x06b51c6882b27cb05e712185531c1f74996dd988</td>\n",
       "    </tr>\n",
       "    <tr>\n",
       "      <th>2</th>\n",
       "      <td>0x0795732aacc448030ef374374eaae57d2965c16c</td>\n",
       "    </tr>\n",
       "    <tr>\n",
       "      <th>3</th>\n",
       "      <td>0x0aaa79f1a86bc8136cd0d1ca0d51964f4e3766f9</td>\n",
       "    </tr>\n",
       "    <tr>\n",
       "      <th>4</th>\n",
       "      <td>0x0fe383e5abc200055a7f391f94a5f5d1f844b9ae</td>\n",
       "    </tr>\n",
       "    <tr>\n",
       "      <th>...</th>\n",
       "      <td>...</td>\n",
       "    </tr>\n",
       "    <tr>\n",
       "      <th>98</th>\n",
       "      <td>0xf60304b534f74977e159b2e159e135475c245526</td>\n",
       "    </tr>\n",
       "    <tr>\n",
       "      <th>99</th>\n",
       "      <td>0xf67e8e5805835465f7eba988259db882ab726800</td>\n",
       "    </tr>\n",
       "    <tr>\n",
       "      <th>100</th>\n",
       "      <td>0xf7aa5d0752cfcd41b0a5945867d619a80c405e52</td>\n",
       "    </tr>\n",
       "    <tr>\n",
       "      <th>101</th>\n",
       "      <td>0xf80a8b9cfff0febf49914c269fb8aead4a22f847</td>\n",
       "    </tr>\n",
       "    <tr>\n",
       "      <th>102</th>\n",
       "      <td>0xfe5a05c0f8b24fca15a7306f6a4ebb7dcf2186ac</td>\n",
       "    </tr>\n",
       "  </tbody>\n",
       "</table>\n",
       "<p>103 rows × 1 columns</p>\n",
       "</div>"
      ],
      "text/plain": [
       "                                      wallet_id\n",
       "0    0x0039f22efb07a647557c7c5d17854cfd6d489ef3\n",
       "1    0x06b51c6882b27cb05e712185531c1f74996dd988\n",
       "2    0x0795732aacc448030ef374374eaae57d2965c16c\n",
       "3    0x0aaa79f1a86bc8136cd0d1ca0d51964f4e3766f9\n",
       "4    0x0fe383e5abc200055a7f391f94a5f5d1f844b9ae\n",
       "..                                          ...\n",
       "98   0xf60304b534f74977e159b2e159e135475c245526\n",
       "99   0xf67e8e5805835465f7eba988259db882ab726800\n",
       "100  0xf7aa5d0752cfcd41b0a5945867d619a80c405e52\n",
       "101  0xf80a8b9cfff0febf49914c269fb8aead4a22f847\n",
       "102  0xfe5a05c0f8b24fca15a7306f6a4ebb7dcf2186ac\n",
       "\n",
       "[103 rows x 1 columns]"
      ]
     },
     "execution_count": 12,
     "metadata": {},
     "output_type": "execute_result"
    }
   ],
   "source": [
    "wallet_df"
   ]
  },
  {
   "cell_type": "code",
   "execution_count": 13,
   "metadata": {},
   "outputs": [],
   "source": [
    "# Simulate transaction and behavioral features\n",
    "\n",
    "np.random.seed(42) \n",
    "n_wallets = len(wallet_df)\n",
    "\n",
    "wallet_df[\"num_borrows\"] = np.random.poisson(lam=5, size=n_wallets) \n",
    "wallet_df[\"total_borrowed\"] = np.random.exponential(scale=10000, size=n_wallets)\n",
    "wallet_df[\"repayment_ratio\"] = np.clip(np.random.normal(loc=0.9, scale=0.1, size=n_wallets), 0, 1) \n",
    "wallet_df[\"num_liquidations\"] = np.random.binomial(n=2, p=0.1, size=n_wallets) \n",
    "wallet_df[\"wallet_age_days\"] = np.random.randint(30, 2000, size=n_wallets)\n",
    "wallet_df[\"collateral_ratio\"] = np.clip(np.random.normal(loc=1.5, scale=0.5, size=n_wallets), 1.0, 3.0)\n",
    "wallet_df[\"tx_frequency\"] = np.random.randint(5, 100, size=n_wallets)"
   ]
  },
  {
   "cell_type": "code",
   "execution_count": 14,
   "metadata": {},
   "outputs": [],
   "source": [
    "# Feature engineering (inversion for risk modeling)\n",
    "features = wallet_df[[\n",
    "    \"repayment_ratio\",\n",
    "    \"num_liquidations\",\n",
    "    \"wallet_age_days\",\n",
    "    \"collateral_ratio\",\n",
    "    \"tx_frequency\"\n",
    "]].copy()\n",
    "\n",
    "features[\"inv_repayment_ratio\"] = 1 - features[\"repayment_ratio\"]\n",
    "features[\"inv_wallet_age\"] = features[\"wallet_age_days\"].max() - features[\"wallet_age_days\"]\n",
    "features[\"inv_collateral_ratio\"] = 3.0 - features[\"collateral_ratio\"]\n",
    "features[\"inv_tx_frequency\"] = features[\"tx_frequency\"].max() - features[\"tx_frequency\"]"
   ]
  },
  {
   "cell_type": "code",
   "execution_count": 15,
   "metadata": {},
   "outputs": [],
   "source": [
    "# Selecting risk-related features and normalize them\n",
    "risk_features = features[[\n",
    "    \"inv_repayment_ratio\",\n",
    "    \"num_liquidations\",\n",
    "    \"inv_wallet_age\",\n",
    "    \"inv_collateral_ratio\",\n",
    "    \"inv_tx_frequency\"\n",
    "]]\n",
    "\n",
    "scaler = MinMaxScaler()\n",
    "normalized = scaler.fit_transform(risk_features)\n"
   ]
  },
  {
   "cell_type": "code",
   "execution_count": 16,
   "metadata": {},
   "outputs": [],
   "source": [
    "# Computing final risk score (scale: 0–1000)\n",
    "weights = np.array([0.3, 0.25, 0.15, 0.2, 0.1])\n",
    "wallet_df[\"score\"] = ((1 - normalized.dot(weights)) * 1000).round().astype(int)\n"
   ]
  },
  {
   "cell_type": "code",
   "execution_count": 17,
   "metadata": {},
   "outputs": [
    {
     "data": {
      "text/html": [
       "<div>\n",
       "<style scoped>\n",
       "    .dataframe tbody tr th:only-of-type {\n",
       "        vertical-align: middle;\n",
       "    }\n",
       "\n",
       "    .dataframe tbody tr th {\n",
       "        vertical-align: top;\n",
       "    }\n",
       "\n",
       "    .dataframe thead th {\n",
       "        text-align: right;\n",
       "    }\n",
       "</style>\n",
       "<table border=\"1\" class=\"dataframe\">\n",
       "  <thead>\n",
       "    <tr style=\"text-align: right;\">\n",
       "      <th></th>\n",
       "      <th>wallet_id</th>\n",
       "      <th>score</th>\n",
       "    </tr>\n",
       "  </thead>\n",
       "  <tbody>\n",
       "    <tr>\n",
       "      <th>0</th>\n",
       "      <td>0x0039f22efb07a647557c7c5d17854cfd6d489ef3</td>\n",
       "      <td>491</td>\n",
       "    </tr>\n",
       "    <tr>\n",
       "      <th>1</th>\n",
       "      <td>0x06b51c6882b27cb05e712185531c1f74996dd988</td>\n",
       "      <td>721</td>\n",
       "    </tr>\n",
       "    <tr>\n",
       "      <th>2</th>\n",
       "      <td>0x0795732aacc448030ef374374eaae57d2965c16c</td>\n",
       "      <td>475</td>\n",
       "    </tr>\n",
       "    <tr>\n",
       "      <th>3</th>\n",
       "      <td>0x0aaa79f1a86bc8136cd0d1ca0d51964f4e3766f9</td>\n",
       "      <td>619</td>\n",
       "    </tr>\n",
       "    <tr>\n",
       "      <th>4</th>\n",
       "      <td>0x0fe383e5abc200055a7f391f94a5f5d1f844b9ae</td>\n",
       "      <td>586</td>\n",
       "    </tr>\n",
       "  </tbody>\n",
       "</table>\n",
       "</div>"
      ],
      "text/plain": [
       "                                    wallet_id  score\n",
       "0  0x0039f22efb07a647557c7c5d17854cfd6d489ef3    491\n",
       "1  0x06b51c6882b27cb05e712185531c1f74996dd988    721\n",
       "2  0x0795732aacc448030ef374374eaae57d2965c16c    475\n",
       "3  0x0aaa79f1a86bc8136cd0d1ca0d51964f4e3766f9    619\n",
       "4  0x0fe383e5abc200055a7f391f94a5f5d1f844b9ae    586"
      ]
     },
     "execution_count": 17,
     "metadata": {},
     "output_type": "execute_result"
    }
   ],
   "source": [
    "# Saving results in CSV file named \"wallet_scores.csv\"\n",
    "wallet_df[[\"wallet_id\", \"score\"]].to_csv(\"wallet_scores.csv\", index=False)\n",
    "wallet_df[[\"wallet_id\", \"score\"]].head()"
   ]
  }
 ],
 "metadata": {
  "kernelspec": {
   "display_name": "Python 3",
   "language": "python",
   "name": "python3"
  },
  "language_info": {
   "codemirror_mode": {
    "name": "ipython",
    "version": 3
   },
   "file_extension": ".py",
   "mimetype": "text/x-python",
   "name": "python",
   "nbconvert_exporter": "python",
   "pygments_lexer": "ipython3",
   "version": "3.12.5"
  }
 },
 "nbformat": 4,
 "nbformat_minor": 2
}
